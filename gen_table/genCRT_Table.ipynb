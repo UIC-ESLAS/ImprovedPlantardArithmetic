{
 "cells": [
  {
   "cell_type": "markdown",
   "metadata": {},
   "source": [
    "# This is used to generate constants for CRT computation of 769 and 3329."
   ]
  },
  {
   "cell_type": "code",
   "execution_count": 2,
   "metadata": {},
   "outputs": [],
   "source": [
    "import math\n",
    "import random\n",
    "def EX_GCD(a,b,arr): #扩展欧几里得\n",
    "    if b == 0:\n",
    "        arr[0] = 1\n",
    "        arr[1] = 0\n",
    "        return a\n",
    "    g = EX_GCD(b, a % b, arr)\n",
    "    t = arr[0]\n",
    "    arr[0] = arr[1]\n",
    "    arr[1] = t - int(a / b) * arr[1]\n",
    "    return g\n",
    "def ModReverse(a,n): #ax=1(mod n) 求a模n的乘法逆x\n",
    "    arr = [0,1,]\n",
    "    gcd = EX_GCD(a,n,arr)\n",
    "    if gcd == 1:\n",
    "        return (arr[0] % n + n) % n\n",
    "    else:\n",
    "        return -1"
   ]
  },
  {
   "cell_type": "markdown",
   "metadata": {},
   "source": [
    "# Constants for the CRT computation of 769 and 3329"
   ]
  },
  {
   "cell_type": "code",
   "execution_count": 3,
   "metadata": {},
   "outputs": [
    {
     "name": "stdout",
     "output_type": "stream",
     "text": [
      "q1,q2 769 3329\n",
      "Plant_const=-2^2n mod Q1 750\n",
      "Plant_const2=-2^2n mod Q2 1976\n",
      "Q1prime_modQ2 1000\n",
      "Q2prime_plant=Q2^-1 mod 2^2n 1806234369\n",
      "Q1prime_modQ2*Plant_const*Mprime_plant= (q1^-1*(-2^2n)) mod Q2 * q2^-1 mod 2^2n 1290167407\n"
     ]
    }
   ],
   "source": [
    "Q1=769\n",
    "Q2=3329\n",
    "n=16\n",
    "N=32\n",
    "r=2**n\n",
    "R=2**N\n",
    "Q1prime_plant=ModReverse(Q1,R)\n",
    "Q2prime_plant=ModReverse(Q2,R)\n",
    "Q1prime_modQ2=ModReverse(Q1,Q2)\n",
    "Plant_const=(-R)%Q1\n",
    "Plant_const2=(-R)%Q2\n",
    "\n",
    "print(\"q1,q2\",Q1,Q2)\n",
    "print(\"Plant_const=-2^2n mod Q1\",Plant_const)\n",
    "print(\"Plant_const2=-2^2n mod Q2\",Plant_const2)\n",
    "print(\"Q1prime_modQ2\",Q1prime_modQ2)\n",
    "print(\"Q2prime_plant=Q2^-1 mod 2^2n\",Q2prime_plant)\n",
    "print(\"Q1prime_modQ2*Plant_const*Mprime_plant= (q1^-1*(-2^2n)) mod Q2 * q2^-1 mod 2^2n\",((Q1prime_modQ2*Plant_const2)%Q2)*Q2prime_plant%R)"
   ]
  }
 ],
 "metadata": {
  "kernelspec": {
   "display_name": "Python 3.9.5 64-bit",
   "language": "python",
   "name": "python3"
  },
  "language_info": {
   "codemirror_mode": {
    "name": "ipython",
    "version": 3
   },
   "file_extension": ".py",
   "mimetype": "text/x-python",
   "name": "python",
   "nbconvert_exporter": "python",
   "pygments_lexer": "ipython3",
   "version": "3.10.4"
  },
  "orig_nbformat": 4,
  "vscode": {
   "interpreter": {
    "hash": "916dbcbb3f70747c44a77c7bcd40155683ae19c65e1c03b4aa3499c5328201f1"
   }
  }
 },
 "nbformat": 4,
 "nbformat_minor": 2
}
