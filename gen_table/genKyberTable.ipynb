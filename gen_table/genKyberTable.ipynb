{
 "cells": [
  {
   "cell_type": "markdown",
   "metadata": {},
   "source": [
    "# This is used to generate twiddle factors for Kyber."
   ]
  },
  {
   "cell_type": "code",
   "execution_count": 2,
   "metadata": {},
   "outputs": [],
   "source": [
    "import math\n",
    "import random\n",
    "def EX_GCD(a,b,arr): #扩展欧几里得\n",
    "    if b == 0:\n",
    "        arr[0] = 1\n",
    "        arr[1] = 0\n",
    "        return a\n",
    "    g = EX_GCD(b, a % b, arr)\n",
    "    t = arr[0]\n",
    "    arr[0] = arr[1]\n",
    "    arr[1] = t - int(a / b) * arr[1]\n",
    "    return g\n",
    "def ModReverse(a,n): #ax=1(mod n) 求a模n的乘法逆x\n",
    "    arr = [0,1,]\n",
    "    gcd = EX_GCD(a,n,arr)\n",
    "    if gcd == 1:\n",
    "        return (arr[0] % n + n) % n\n",
    "    else:\n",
    "        return -1"
   ]
  },
  {
   "cell_type": "markdown",
   "metadata": {},
   "source": [
    "# Constants for Kyber"
   ]
  },
  {
   "cell_type": "code",
   "execution_count": 3,
   "metadata": {},
   "outputs": [
    {
     "name": "stdout",
     "output_type": "stream",
     "text": [
      "q 3329\n",
      "qa 26632\n",
      "qinv_plant=q^-1 mod 2^2n 1806234369 0x6ba8f301\n",
      "qinv_mont=-q^-1 mod 2^n 3327\n",
      "Mont_const==2^n mod q 2285\n",
      "Plant_const=-2^2n mod q 1976\n",
      "plant*qinv_plant= q^-1 (-2^2n) mod 2^2n 1290168\n"
     ]
    }
   ],
   "source": [
    "M=3329\n",
    "n=16\n",
    "N=32\n",
    "r=2**n\n",
    "R=2**N\n",
    "alpha=3\n",
    "alpha2=2**alpha\n",
    "Mprime_mont=ModReverse(-M,r)\n",
    "Mprime_plant=ModReverse(M,R)\n",
    "\n",
    "Mont_const=r%M\n",
    "Plant_const=(-R)%M\n",
    "\n",
    "root_of_unity=17\n",
    "\n",
    "and32=(1>>32)-1\n",
    "and64=(1>>64)-1\n",
    "print(\"q\",M)\n",
    "print(\"qa\",M*alpha2)\n",
    "print(\"qinv_plant=q^-1 mod 2^2n\", Mprime_plant, hex(Mprime_plant))\n",
    "print(\"qinv_mont=-q^-1 mod 2^n\", Mprime_mont)\n",
    "print(\"Mont_const==2^n mod q\",Mont_const)\n",
    "print(\"Plant_const=-2^2n mod q\",Plant_const) # \n",
    "print(\"plant*qinv_plant= q^-1 (-2^2n) mod 2^2n\",Plant_const*Mprime_plant%R)"
   ]
  },
  {
   "cell_type": "markdown",
   "metadata": {},
   "source": [
    "# Basic modular arithmetic for computing NTT twiddle factors"
   ]
  },
  {
   "cell_type": "code",
   "execution_count": 4,
   "metadata": {},
   "outputs": [],
   "source": [
    "\n",
    "# Plantard reduction\n",
    "def plant_red(a):\n",
    "\tt=(((((a*Mprime_plant)%R)//r)+alpha2)*M//r)\n",
    "\treturn t\n",
    "def plant_mul(a,b):\n",
    "\treturn plant_red(a*b)\n",
    "def plant_mul_ntt(a,zeta):\n",
    "\tt=(((((a*zeta)%R)//r)+alpha2)*M//r)\n",
    "\treturn t"
   ]
  },
  {
   "cell_type": "markdown",
   "metadata": {},
   "source": [
    "# Generation tree for C-version NTT and INTT"
   ]
  },
  {
   "cell_type": "code",
   "execution_count": 5,
   "metadata": {},
   "outputs": [],
   "source": [
    "# For C-version NTT\n",
    "# tree = [\n",
    "#   0, 64, 32, 96, 16, 80, 48, 112, 8, 72, 40, 104, 24, 88, 56, 120,\n",
    "#   4, 68, 36, 100, 20, 84, 52, 116, 12, 76, 44, 108, 28, 92, 60, 124,\n",
    "#   2, 66, 34, 98, 18, 82, 50, 114, 10, 74, 42, 106, 26, 90, 58, 122,\n",
    "#   6, 70, 38, 102, 22, 86, 54, 118, 14, 78, 46, 110, 30, 94, 62, 126,\n",
    "#   1, 65, 33, 97, 17, 81, 49, 113, 9, 73, 41, 105, 25, 89, 57, 121,\n",
    "#   5, 69, 37, 101, 21, 85, 53, 117, 13, 77, 45, 109, 29, 93, 61, 125,\n",
    "#   3, 67, 35, 99, 19, 83, 51, 115, 11, 75, 43, 107, 27, 91, 59, 123,\n",
    "#   7, 71, 39, 103, 23, 87, 55, 119, 15, 79, 47, 111, 31, 95, 63, 127]\n",
    "tree= [0, 64, 32, 96, 16, 80, 48, 112, 8, 4, 68, 2, 66, 34, 98, 72, 36, 100, 18, 82, 50, 114, 40, 20, 84, 10, 74, 42, 106, 104, 52, 116, 26, 90, 58, 122, 24, 12, 76, 6, 70, 38, 102, 88, 44, 108, 22, 86, 54, 118, 56, 28, 92, 14, 78, 46, 110, 120, 60, 124, 30, 94, 62, 126, 1, 65, 33, 97, 17, 81, 49, 113, 9, 73, 41, 105, 25, 89, 57, 121, 5, 69, 37, 101, 21, 85, 53, 117, 13, 77, 45, 109, 29, 93, 61, 125, 3, 67, 35, 99, 19, 83, 51, 115, 11, 75, 43, 107, 27, 91, 59, 123, 7, 71, 39, 103, 23, 87, 55, 119, 15, 79, 47, 111, 31, 95, 63, 127]\n",
    "# Original precomputed zetas and inverse zetas for Kyber in Mont domain. \n",
    "zetas_asm = [\n",
    "    # 7 & 6 & 5 & 4 layers\n",
    "    2571, 2970, 1812, 1493, 1422, 287, 202, 3158, 622, 1577, 182, 962, 2127, 1855, 1468, \n",
    "    # 1st loop of 3 & 2 & 1 layers\n",
    "    573, 1223, 652, 2226, 430, 555, 843, 2004, 2777, 1015, 2078, 871, 1550, 105,\n",
    "    # 2nd loop of 3 & 2 & 1 layers\n",
    "    264, 2036, 1491, 422, 587, 177, 3094, 383, 3047, 1785, 3038, 2869, 1574, 1653,\n",
    "    # 3rd loop of 3 & 2 & 1 layers\n",
    "    2500, 516, 3321, 3083, 778, 1159, 3182, 1458, 3009, 2663, 2552, 1483, 2727, 1119,\n",
    "    # 4th loop of 3 & 2 & 1 layers\n",
    "    1727, 1711, 2167, 1739, 644, 2457, 349, 3199, 126, 1469, 418, 329, 3173, 3254,\n",
    "    # 5th loop of 3 & 2 & 1 layers\n",
    "    2648, 2476, 3239, 817, 1097, 603, 610, 1017, 3058, 830, 1322, 2044, 1864, 384,\n",
    "    # 6th loop of 3 & 2 & 1 layers\n",
    "    732, 107, 1908, 2114, 3193, 1218, 1994, 608, 3082, 2378, 2455, 220, 2142, 1670,\n",
    "    # 7th loop of 3 & 2 & 1 layers\n",
    "    1787, 2931, 961, 2144, 1799, 2051, 794, 411, 1821, 2604, 1819, 2475, 2459, 478,\n",
    "    # 8th loop of 3 & 2 & 1 layers\n",
    "    3124, 448, 2264, 3221, 3021, 996, 991, 1758, 677, 2054, 958, 1869, 1522, 1628, 0\n",
    "]\n",
    "\n",
    "def init_ntt_c_plant_from_mont(zetas,type):\n",
    "\tplant_ntt_asm=[]\n",
    "\tplant_ntt_asm_prime=[]\n",
    "\tMont_inv=ModReverse(Mont_const,M)\n",
    "\tfor zeta in zetas:\n",
    "\t\tt=Plant_const*zeta*Mont_inv%M\n",
    "\t\tplant_ntt_asm.append(t)\n",
    "\tif type==1: \n",
    "\t\t# for inverse NTT. Finalize the final two twiddle factors in the final layer as (Plant^2*128^-1)%M \n",
    "\t\tplant_ntt_asm[-2]=plant_ntt_asm[-2]*Plant_const*Mont_inv%M\n",
    "\t\tplant_ntt_asm[-1]=plant_ntt_asm[-1]*Plant_const*Mont_inv%M\n",
    "\tfor zeta in plant_ntt_asm: \n",
    "\t\t# zeta*Mprime_plant %R\n",
    "\t\tt=(zeta*Mprime_plant)%R\n",
    "\t\tplant_ntt_asm_prime.append(t)\n",
    "\tif type==0:\n",
    "\t\tprint(\"plant_ntt_asm\",plant_ntt_asm_prime)\n",
    "\telse:\n",
    "\t\tprint(\"plant_inv_ntt_asm\",plant_ntt_asm_prime)\n",
    "\t\t\n",
    "init_ntt_c_plant_from_mont(zetas_asm)"
   ]
  }
 ],
 "metadata": {
  "kernelspec": {
   "display_name": "Python 3.9.5 64-bit",
   "language": "python",
   "name": "python3"
  },
  "language_info": {
   "codemirror_mode": {
    "name": "ipython",
    "version": 3
   },
   "file_extension": ".py",
   "mimetype": "text/x-python",
   "name": "python",
   "nbconvert_exporter": "python",
   "pygments_lexer": "ipython3",
   "version": "3.10.4"
  },
  "orig_nbformat": 4,
  "vscode": {
   "interpreter": {
    "hash": "916dbcbb3f70747c44a77c7bcd40155683ae19c65e1c03b4aa3499c5328201f1"
   }
  }
 },
 "nbformat": 4,
 "nbformat_minor": 2
}
