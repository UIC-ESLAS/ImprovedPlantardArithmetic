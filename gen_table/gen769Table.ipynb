{
 "cells": [
  {
   "cell_type": "markdown",
   "metadata": {},
   "source": [
    "# This is used to generate twiddle factors for Kyber."
   ]
  },
  {
   "cell_type": "code",
   "execution_count": 1,
   "metadata": {},
   "outputs": [],
   "source": [
    "import math\n",
    "import random\n",
    "def EX_GCD(a,b,arr): #扩展欧几里得\n",
    "    if b == 0:\n",
    "        arr[0] = 1\n",
    "        arr[1] = 0\n",
    "        return a\n",
    "    g = EX_GCD(b, a % b, arr)\n",
    "    t = arr[0]\n",
    "    arr[0] = arr[1]\n",
    "    arr[1] = t - int(a / b) * arr[1]\n",
    "    return g\n",
    "def ModReverse(a,n): #ax=1(mod n) 求a模n的乘法逆x\n",
    "    arr = [0,1,]\n",
    "    gcd = EX_GCD(a,n,arr)\n",
    "    if gcd == 1:\n",
    "        return (arr[0] % n + n) % n\n",
    "    else:\n",
    "        return -1"
   ]
  },
  {
   "cell_type": "markdown",
   "metadata": {},
   "source": [
    "# Constants for Modulus 769"
   ]
  },
  {
   "cell_type": "code",
   "execution_count": 2,
   "metadata": {},
   "outputs": [
    {
     "name": "stdout",
     "output_type": "stream",
     "text": [
      "q 769\n",
      "qa 24608\n",
      "omegaQ1, invNQ1 562 763\n",
      "Mont_const_inv 9\n",
      "Plant_const=-2^2n mod M 750\n",
      "Mont_const=2^n mod M 171\n",
      "Mprime_modM2 1000\n",
      "Mprime_plant=M^-1 mod 2^2n 3842571521\n",
      "Plant_const*Mprime_plant= q^-1 (-2^2n) mod 2^2n 5585134\n"
     ]
    }
   ],
   "source": [
    "M=769\n",
    "M2=3329\n",
    "n=16\n",
    "N=32\n",
    "r=2**n\n",
    "R=2**N\n",
    "alpha=5\n",
    "alpha2=2**alpha\n",
    "Mprime_mont=ModReverse(-M,r)\n",
    "Mprime_plant=ModReverse(M,R)\n",
    "Mprime_modM2=ModReverse(M,M2)\n",
    "Mont_const=r%M\n",
    "Plant_const=(-R)%M\n",
    "Q1pr=11\n",
    "omegaQ1=Q1pr**((M-1)//256)%M\n",
    "invNQ1=ModReverse(128,M)\n",
    "\n",
    "print(\"q\",M)\n",
    "print(\"qa\",M*alpha2)\n",
    "print(\"omegaQ1, invNQ1\", omegaQ1, invNQ1)\n",
    "Mont_const_inv=ModReverse(Mont_const,M)\n",
    "Plant_const_inv=ModReverse(Plant_const,M)\n",
    "print(\"Mont_const_inv\",Mont_const_inv)\n",
    "print(\"Plant_const=-2^2n mod M\",Plant_const)\n",
    "print(\"Mont_const=2^n mod M\",Mont_const)\n",
    "print(\"Mprime_modM2\",Mprime_modM2)\n",
    "print(\"Mprime_plant=M^-1 mod 2^2n\",Mprime_plant)\n",
    "print(\"Plant_const*Mprime_plant= q^-1 (-2^2n) mod 2^2n\",Plant_const*Mprime_plant%R)"
   ]
  },
  {
   "cell_type": "markdown",
   "metadata": {},
   "source": [
    "# Basic modular arithmetic for computing NTT twiddle factors"
   ]
  },
  {
   "cell_type": "code",
   "execution_count": 14,
   "metadata": {},
   "outputs": [],
   "source": [
    "\n",
    "# Plantard reduction\n",
    "def plant_red(a):\n",
    "\tt=(((((a*Mprime_plant)%R)//r)+alpha2)*M//r)\n",
    "\treturn t\n",
    "def plant_mul(a,b):\n",
    "\treturn plant_red(a*b)\n",
    "def plant_mul_ntt(a,zeta):\n",
    "\tt=(((((a*zeta)%R)//r)+alpha2)*M//r)\n",
    "\treturn t"
   ]
  },
  {
   "cell_type": "code",
   "execution_count": 16,
   "metadata": {},
   "outputs": [
    {
     "name": "stdout",
     "output_type": "stream",
     "text": [
      "plant_ntt_asm [3138844760, 1334846793, 999738812, 1854264165, 1681125041, 1150537404, 2820492178, 3071823164, 726067294, 2066499220, 3272887953, 1055590142, 4255871365, 1871019564, 2731130050, 1826338500, 513832239, 1792827701, 3373420347, 2993631302, 1161707670, 3306398751, 3518633806, 3406931146, 1586177780, 3853741788, 3317569017, 3825816122, 971813147, 122872927, 217820188, 619949766, 3753209393, 770748358, 4099487641, 765163225, 3630336467, 1742561504, 3479537875, 982983413, 2809321912, 2379266669, 703726762, 681386230, 4110657907, 1457719720, 1217559000, 2474213930, 1195218468, 1089100940, 564098436, 614364633, 3635921600, 2088839752, 3702943196, 1949211426, 2569161192, 374203913, 3982199847, 2083254619, 1513571050, 3647091866, 413299844, 4149753838]\n",
      "plant_ntt_asm [3138844760, 1334846793, 999738812, 1854264165, 1681125041, 1150537404, 2820492178, 3071823164, 726067294, 2066499220, 3272887953, 1055590142, 4255871365, 1871019564, 2731130050, 1826338500, 513832239, 1792827701, 3373420347, 2993631302, 1161707670, 3306398751, 3518633806, 3406931146, 1586177780, 3853741788, 3317569017, 3825816122, 971813147, 122872927, 217820188, 619949766, 3753209393, 770748358, 4099487641, 765163225, 3630336467, 1742561504, 3479537875, 982983413, 2809321912, 2379266669, 703726762, 681386230, 4110657907, 1457719720, 1217559000, 2474213930, 1195218468, 1089100940, 564098436, 614364633, 3635921600, 2088839752, 3702943196, 1949211426, 2569161192, 374203913, 3982199847, 2083254619, 1513571050, 3647091866, 413299844, 4149753838]\n"
     ]
    }
   ],
   "source": [
    "def init_ntt_c_plant_from_mont(zetas,type):\n",
    "\tplant_ntt_asm=[]\n",
    "\tplant_ntt_asm_prime=[]\n",
    "\tMont_inv=ModReverse(Mont_const,M)\n",
    "\tfor zeta in zetas:\n",
    "\t\tt=Plant_const*zeta*Mont_inv%M\n",
    "\t\tplant_ntt_asm.append(t)\n",
    "\tif type==1: \n",
    "\t\t# for inverse NTT. Finalize the final two twiddle factors in the final layer as (Plant^2*128^-1)%M \n",
    "\t\tplant_ntt_asm[-2]=plant_ntt_asm[-2]*Plant_const*Mont_inv%M\n",
    "\t\tplant_ntt_asm[-1]=plant_ntt_asm[-1]*Plant_const*Mont_inv%M\n",
    "\tfor zeta in plant_ntt_asm: \n",
    "\t\t# zeta*Mprime_plant %R\n",
    "\t\tt=(zeta*Mprime_plant)%R\n",
    "\t\tplant_ntt_asm_prime.append(t)\n",
    "\tif type==0:\n",
    "\t\tprint(\"plant_ntt_asm\",plant_ntt_asm_prime)\n",
    "\telse:\n",
    "\t\tprint(\"plant_inv_ntt_asm\",plant_ntt_asm_prime)\n",
    "\n",
    "zetas=[-23, 112, -151, -134, -52, -148, 227, 232,\n",
    "-71, 212, 236, 21, 341, 379, -202, -220,\n",
    "352, 292, 238, 145, 194, -276, 70, -274,\n",
    "117, 333, 66, 247, -237, -83, -252, -244,\n",
    "331, -241, 167, 357, -355, 291, -358, 105, -115, -209, 14, 99, -260, 29, 366, -378, -318, 278, 353, 354, -184, 127, 330, -303, 222, -78, -348, -44, 201, 158, 350, 168]\n",
    "init_ntt_c_plant_from_mont(zetas,0)\n",
    "\n",
    "zetas_asm=[-164, -81, 361, 186, -3, -250, -120, -308, 129, -16, -223, -362, -143, 131, -337,\n",
    "-76, 147, -114, -23, 112, -151, -134,\n",
    "-98, -272, 54, -52, -148, 227, 232,\n",
    "36, -2, -124, -71, 212, 236, 21,\n",
    "-75, -80, -346, 341, 379, -202, -220,\n",
    "-339, 86, -51, 352, 292, 238, 145,\n",
    "-255, 364, 267, 194, -276, 70, -274,\n",
    "282, 161, -15, 117, 333, 66, 247,\n",
    "-203, 288, 169, -237, -83, -252, -244,\n",
    "-34, 191, 307, 331, -241, 167, 357,\n",
    "199, -50, -24, -355, 291, -358, 105,\n",
    "178, -170, 226, -115, -209, 14, 99,\n",
    "270, 121, -188, -260, 29, 366, -378,\n",
    "-10, -380, 279, -318, 278, 353, 354,\n",
    "149, 180, -375, -184, 127, 330, -303,\n",
    "369, -157, 263, 222, -78, -348, -44,\n",
    "-192, -128, -246, 201, 158, 350, 168,0]\n",
    "init_ntt_c_plant_from_mont(zetas,0)"
   ]
  },
  {
   "cell_type": "code",
   "execution_count": 22,
   "metadata": {},
   "outputs": [
    {
     "name": "stdout",
     "output_type": "stream",
     "text": [
      "find a prime: 493313\n",
      "find a prime: 494849\n",
      "find a prime: 495361\n",
      "find a prime: 495617\n",
      "find a prime: 496897\n",
      "find a prime: 497153\n",
      "find a prime: 498689\n",
      "find a prime: 499969\n",
      "find a prime: 503297\n",
      "find a prime: 505601\n",
      "find a prime: 506113\n",
      "find a prime: 507137\n",
      "find a prime: 509441\n",
      "find a prime: 514049\n",
      "find a prime: 514561\n",
      "find a prime: 518657\n",
      "find a prime: 520193\n",
      "find a prime: 522497\n",
      "find a prime: 523777\n",
      "find a prime: 524801\n",
      "find a prime: 525313\n",
      "find a prime: 529153\n",
      "find a prime: 530177\n",
      "find a prime: 531457\n",
      "find a prime: 532993\n",
      "find a prime: 533249\n",
      "find a prime: 534529\n"
     ]
    },
    {
     "ename": "KeyboardInterrupt",
     "evalue": "",
     "output_type": "error",
     "traceback": [
      "\u001b[0;31m---------------------------------------------------------------------------\u001b[0m",
      "\u001b[0;31mKeyboardInterrupt\u001b[0m                         Traceback (most recent call last)",
      "\u001b[0;32m/tmp/ipykernel_18711/1242402112.py\u001b[0m in \u001b[0;36m<module>\u001b[0;34m\u001b[0m\n\u001b[1;32m     13\u001b[0m         \u001b[0;32mif\u001b[0m \u001b[0mis_prime\u001b[0m\u001b[0;34m(\u001b[0m\u001b[0mi\u001b[0m\u001b[0;34m)\u001b[0m\u001b[0;34m==\u001b[0m\u001b[0;32mTrue\u001b[0m \u001b[0;32mand\u001b[0m \u001b[0;34m(\u001b[0m\u001b[0mi\u001b[0m\u001b[0;34m-\u001b[0m\u001b[0;36m1\u001b[0m\u001b[0;34m)\u001b[0m\u001b[0;34m%\u001b[0m\u001b[0;36m256\u001b[0m\u001b[0;34m==\u001b[0m\u001b[0;36m0\u001b[0m\u001b[0;34m:\u001b[0m\u001b[0;34m\u001b[0m\u001b[0;34m\u001b[0m\u001b[0m\n\u001b[1;32m     14\u001b[0m             \u001b[0mprint\u001b[0m\u001b[0;34m(\u001b[0m\u001b[0;34m\"find a prime:\"\u001b[0m\u001b[0;34m,\u001b[0m\u001b[0mi\u001b[0m\u001b[0;34m)\u001b[0m\u001b[0;34m\u001b[0m\u001b[0;34m\u001b[0m\u001b[0m\n\u001b[0;32m---> 15\u001b[0;31m \u001b[0msearch_prime\u001b[0m\u001b[0;34m(\u001b[0m\u001b[0;34m)\u001b[0m\u001b[0;34m\u001b[0m\u001b[0;34m\u001b[0m\u001b[0m\n\u001b[0m",
      "\u001b[0;32m/tmp/ipykernel_18711/1242402112.py\u001b[0m in \u001b[0;36msearch_prime\u001b[0;34m()\u001b[0m\n\u001b[1;32m     11\u001b[0m     \u001b[0mn\u001b[0m\u001b[0;34m=\u001b[0m\u001b[0;36m256\u001b[0m\u001b[0;34m\u001b[0m\u001b[0;34m\u001b[0m\u001b[0m\n\u001b[1;32m     12\u001b[0m     \u001b[0;32mfor\u001b[0m \u001b[0mi\u001b[0m \u001b[0;32min\u001b[0m \u001b[0mrange\u001b[0m\u001b[0;34m(\u001b[0m\u001b[0;36m491520\u001b[0m\u001b[0;34m,\u001b[0m\u001b[0;36m1\u001b[0m\u001b[0;34m<<\u001b[0m\u001b[0;36m23\u001b[0m\u001b[0;34m)\u001b[0m\u001b[0;34m:\u001b[0m\u001b[0;34m\u001b[0m\u001b[0;34m\u001b[0m\u001b[0m\n\u001b[0;32m---> 13\u001b[0;31m         \u001b[0;32mif\u001b[0m \u001b[0mis_prime\u001b[0m\u001b[0;34m(\u001b[0m\u001b[0mi\u001b[0m\u001b[0;34m)\u001b[0m\u001b[0;34m==\u001b[0m\u001b[0;32mTrue\u001b[0m \u001b[0;32mand\u001b[0m \u001b[0;34m(\u001b[0m\u001b[0mi\u001b[0m\u001b[0;34m-\u001b[0m\u001b[0;36m1\u001b[0m\u001b[0;34m)\u001b[0m\u001b[0;34m%\u001b[0m\u001b[0;36m256\u001b[0m\u001b[0;34m==\u001b[0m\u001b[0;36m0\u001b[0m\u001b[0;34m:\u001b[0m\u001b[0;34m\u001b[0m\u001b[0;34m\u001b[0m\u001b[0m\n\u001b[0m\u001b[1;32m     14\u001b[0m             \u001b[0mprint\u001b[0m\u001b[0;34m(\u001b[0m\u001b[0;34m\"find a prime:\"\u001b[0m\u001b[0;34m,\u001b[0m\u001b[0mi\u001b[0m\u001b[0;34m)\u001b[0m\u001b[0;34m\u001b[0m\u001b[0;34m\u001b[0m\u001b[0m\n\u001b[1;32m     15\u001b[0m \u001b[0msearch_prime\u001b[0m\u001b[0;34m(\u001b[0m\u001b[0;34m)\u001b[0m\u001b[0;34m\u001b[0m\u001b[0;34m\u001b[0m\u001b[0m\n",
      "\u001b[0;32m/tmp/ipykernel_18711/1242402112.py\u001b[0m in \u001b[0;36mis_prime\u001b[0;34m(num)\u001b[0m\n\u001b[1;32m      4\u001b[0m     \u001b[0;32melse\u001b[0m\u001b[0;34m:\u001b[0m\u001b[0;34m\u001b[0m\u001b[0;34m\u001b[0m\u001b[0m\n\u001b[1;32m      5\u001b[0m         \u001b[0;32mfor\u001b[0m \u001b[0mi\u001b[0m \u001b[0;32min\u001b[0m \u001b[0mrange\u001b[0m\u001b[0;34m(\u001b[0m\u001b[0;36m2\u001b[0m\u001b[0;34m,\u001b[0m\u001b[0mnum\u001b[0m\u001b[0;34m)\u001b[0m\u001b[0;34m:\u001b[0m\u001b[0;34m\u001b[0m\u001b[0;34m\u001b[0m\u001b[0m\n\u001b[0;32m----> 6\u001b[0;31m             \u001b[0;32mif\u001b[0m \u001b[0mnum\u001b[0m\u001b[0;34m%\u001b[0m\u001b[0mi\u001b[0m\u001b[0;34m==\u001b[0m\u001b[0;36m0\u001b[0m\u001b[0;34m:\u001b[0m\u001b[0;34m\u001b[0m\u001b[0;34m\u001b[0m\u001b[0m\n\u001b[0m\u001b[1;32m      7\u001b[0m                 \u001b[0;32mreturn\u001b[0m \u001b[0;32mFalse\u001b[0m\u001b[0;34m\u001b[0m\u001b[0;34m\u001b[0m\u001b[0m\n\u001b[1;32m      8\u001b[0m     \u001b[0;32mreturn\u001b[0m \u001b[0;32mTrue\u001b[0m\u001b[0;34m\u001b[0m\u001b[0;34m\u001b[0m\u001b[0m\n",
      "\u001b[0;31mKeyboardInterrupt\u001b[0m: "
     ]
    }
   ],
   "source": [
    "def is_prime(num):\n",
    "    if num==1:\n",
    "        return False\n",
    "    else:\n",
    "        for i in range(2,num):\n",
    "            if num%i==0:\n",
    "                return False\n",
    "    return True\n",
    "\n",
    "def search_prime():\n",
    "    n=256\n",
    "    for i in range(491520,1<<23):\n",
    "        if is_prime(i)==True and (i-1)%256==0:\n",
    "            print(\"find a prime:\",i)\n",
    "search_prime()"
   ]
  }
 ],
 "metadata": {
  "kernelspec": {
   "display_name": "Python 3.9.5 64-bit",
   "language": "python",
   "name": "python3"
  },
  "language_info": {
   "codemirror_mode": {
    "name": "ipython",
    "version": 3
   },
   "file_extension": ".py",
   "mimetype": "text/x-python",
   "name": "python",
   "nbconvert_exporter": "python",
   "pygments_lexer": "ipython3",
   "version": "3.10.4"
  },
  "orig_nbformat": 4,
  "vscode": {
   "interpreter": {
    "hash": "916dbcbb3f70747c44a77c7bcd40155683ae19c65e1c03b4aa3499c5328201f1"
   }
  }
 },
 "nbformat": 4,
 "nbformat_minor": 2
}
